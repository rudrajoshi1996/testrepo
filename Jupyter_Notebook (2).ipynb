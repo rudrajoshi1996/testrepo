{
 "cells": [
  {
   "cell_type": "markdown",
   "metadata": {},
   "source": [
    "# DATA SCIENCE PROJECT"
   ]
  },
  {
   "cell_type": "markdown",
   "metadata": {},
   "source": [
    "*Data Science is the area of study which involves extracting insights from vast amounts of data using various scientific methods, algorithms, and processes*. *It helps you to discover hidden patterns from the raw data*. *The term Data Science has emerged because of the evolution of mathematical statistics, data analysis, and big data*. *Data Science is an interdisciplinary field that allows you to extract knowledge from structured or unstructured data*. *Data science enables you to translate a business problem into a research project and then translate it back into a practical solution.*"
   ]
  },
  {
   "cell_type": "markdown",
   "metadata": {},
   "source": [
    "### Here are some examples of Data Science languages:\n",
    "1. Python\n",
    "2. R\n",
    "3. SQL\n",
    "4. Julia\n",
    "5. JavaScript"
   ]
  },
  {
   "cell_type": "markdown",
   "metadata": {},
   "source": [
    "### Here are some examples of Data Science libraries:\n",
    "1. TensorFlow\n",
    "2. NumPy\n",
    "3. SciPy \n",
    "4. Pandas\n",
    "5. Matplotlib \n",
    "6. Keras\n",
    "7. SciKit-Learn\n",
    "8. PyTorch"
   ]
  },
  {
   "cell_type": "markdown",
   "metadata": {},
   "source": [
    "### Following table shows a list of Data Science tools:\n",
    " Sr. No. | Data Science Tools\n",
    " --- | ---\n",
    " 1 | TensorFlow\n",
    " 2 | NumPy\n",
    " 3 | SciPy \n",
    " 4 | Pandas\n",
    " 5 | Matplotlib\n",
    " 6 | Keras"
   ]
  },
  {
   "cell_type": "markdown",
   "metadata": {},
   "source": [
    "### In Python, operators are special symbols that designate that some sort of computation should be performed. The values that an operator acts on are called operands.\n",
    "\n",
    "**Here is an example:**\n",
    "\n",
    "a = 10 |\n",
    "b = 20 |\n",
    "a + b =\n",
    "30"
   ]
  },
  {
   "cell_type": "code",
   "execution_count": 6,
   "metadata": {},
   "outputs": [
    {
     "data": {
      "text/plain": [
       "110"
      ]
     },
     "execution_count": 6,
     "metadata": {},
     "output_type": "execute_result"
    }
   ],
   "source": [
    ">>> a = 10\n",
    ">>> b = 20\n",
    ">>> a + b * 5 "
   ]
  },
  {
   "cell_type": "code",
   "execution_count": 21,
   "metadata": {},
   "outputs": [
    {
     "name": "stdout",
     "output_type": "stream",
     "text": [
      "6:56:40\n"
     ]
    }
   ],
   "source": [
    "def convert(seconds):\n",
    "\tseconds = seconds % (24 * 3600)\n",
    "\thour = seconds // 3600\n",
    "\tseconds %= 3600\n",
    "\tminutes = seconds // 60\n",
    "\tseconds %= 60\n",
    "\t\n",
    "\treturn \"%d:%02d:%02d\" % (hour, minutes, seconds)\n",
    "n = 25000\n",
    "print(convert(n))\n",
    "\n"
   ]
  },
  {
   "cell_type": "markdown",
   "metadata": {},
   "source": [
    "### Objectives:\n",
    "*The key objective of this Data Science project is to extract valuable information for use in strategic decision making, product development, trend analysis, and forecasting*. *To explore, sort and analyze megadata from various sources in order to take advantage of them and reach conclusions to optimize business processes or for decision support*."
   ]
  },
  {
   "cell_type": "markdown",
   "metadata": {},
   "source": [
    "#### Author : Rudra Joshi"
   ]
  }
 ],
 "metadata": {
  "kernelspec": {
   "display_name": "Python",
   "language": "python",
   "name": "conda-env-python-py"
  },
  "language_info": {
   "codemirror_mode": {
    "name": "ipython",
    "version": 3
   },
   "file_extension": ".py",
   "mimetype": "text/x-python",
   "name": "python",
   "nbconvert_exporter": "python",
   "pygments_lexer": "ipython3",
   "version": "3.7.12"
  }
 },
 "nbformat": 4,
 "nbformat_minor": 4
}
